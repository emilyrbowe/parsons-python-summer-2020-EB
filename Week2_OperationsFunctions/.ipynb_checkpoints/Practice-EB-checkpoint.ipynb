{
 "cells": [
  {
   "cell_type": "code",
   "execution_count": 8,
   "metadata": {},
   "outputs": [
    {
     "name": "stdout",
     "output_type": "stream",
     "text": [
      "0\n",
      "1\n",
      "2\n",
      "3\n",
      "4\n",
      "5\n",
      "6\n",
      "7\n",
      "8\n",
      "9\n",
      "10\n"
     ]
    }
   ],
   "source": [
    "# 1) Print the first 10 natural numbers using a loop \n",
    "\n",
    "# Expected output: \n",
    "# 0\n",
    "# 1\n",
    "# 2\n",
    "# 3\n",
    "# 4\n",
    "# 5\n",
    "# 6\n",
    "# 7\n",
    "# 8\n",
    "# 9\n",
    "# 10\n",
    "\n",
    "i = 0\n",
    "while i <= 10:\n",
    "    print(i)\n",
    "    i+=1"
   ]
  },
  {
   "cell_type": "code",
   "execution_count": 9,
   "metadata": {},
   "outputs": [
    {
     "name": "stdout",
     "output_type": "stream",
     "text": [
      "0\n",
      "1\n",
      "2\n",
      "3\n",
      "4\n",
      "5\n",
      "6\n",
      "7\n",
      "8\n",
      "9\n",
      "10\n",
      "Done!\n"
     ]
    }
   ],
   "source": [
    "# 2) Execute the loop in Question 1 and print the message Done! after \n",
    "\n",
    "# Expected output: \n",
    "# 0\n",
    "# 1\n",
    "# 2\n",
    "# 3\n",
    "# 4\n",
    "# 5\n",
    "# 6\n",
    "# 7\n",
    "# 8\n",
    "# 9\n",
    "# 10\n",
    "# Done! \n",
    "\n",
    "i = 0\n",
    "while i <= 10:\n",
    "    print(i)\n",
    "    i+=1\n",
    "else:\n",
    "    print(\"Done!\")"
   ]
  },
  {
   "cell_type": "code",
   "execution_count": 17,
   "metadata": {},
   "outputs": [
    {
     "name": "stdout",
     "output_type": "stream",
     "text": [
      "157\n",
      "178\n",
      "189\n"
     ]
    }
   ],
   "source": [
    "# 3) Print the numbers greater than 150 from the list \n",
    "\n",
    "# list = [12, 15, 47, 63, 78, 101, 157, 178, 189]\n",
    "# Expected output: \n",
    "\n",
    "# 157\n",
    "# 178 \n",
    "# 189 \n",
    "\n",
    "list = [12, 15, 47, 63, 78, 101, 157, 178, 189]\n",
    "for num in list:\n",
    "    if (num > 150):\n",
    "        print(num)"
   ]
  },
  {
   "cell_type": "code",
   "execution_count": 34,
   "metadata": {},
   "outputs": [
    {
     "name": "stdout",
     "output_type": "stream",
     "text": [
      "12\n",
      "78\n"
     ]
    }
   ],
   "source": [
    "# 4) Print the number that is even and less than 150 \n",
    "\n",
    "# list = [12, 15, 47, 63, 78, 101, 157, 178, 189]\n",
    "# Expected output: \n",
    "\n",
    "# 12\n",
    "# 78\n",
    "\n",
    "#Hint: if you find a number greater than 150, stop the loop with a break\n",
    "\n",
    "list = [12, 15, 47, 63, 78, 101, 157, 178, 189]\n",
    "for num in list:\n",
    "    if (num < 150) and (num%2==0):\n",
    "        print(num)"
   ]
  },
  {
   "cell_type": "code",
   "execution_count": 53,
   "metadata": {},
   "outputs": [
    {
     "name": "stdout",
     "output_type": "stream",
     "text": [
      "Flip 1 - heads\n",
      "Flip 2 - tails\n",
      "Flip 3 - tails\n",
      "Flip 4 - tails\n",
      "Flip 5 - heads\n",
      "Flip 6 - heads\n",
      "Flip 7 - heads\n",
      "Flip 8 - tails\n",
      "Flip 9 - tails\n",
      "Flip 10 - heads\n",
      "Total heads:  5\n",
      "Total tails:  5\n"
     ]
    }
   ],
   "source": [
    "# 5) BONUS \n",
    "\n",
    "# Flip a coin 10 times \n",
    "# Hint: Look into the random library using: \n",
    "# import random \n",
    "\n",
    "import random\n",
    "\n",
    "count = 1\n",
    "total_heads = 0\n",
    "total_tails = 0\n",
    "\n",
    "while count < 11:\n",
    "    flip = random.choice( ['heads', 'tails'] )\n",
    "    print(\"Flip\", count,\"-\", flip)\n",
    "    if flip == 'heads':\n",
    "        total_heads+=1\n",
    "    else:\n",
    "        total_tails+=1\n",
    "    count+=1\n",
    "    \n",
    "print('Total heads: ', total_heads)\n",
    "print('Total tails: ', total_tails)"
   ]
  }
 ],
 "metadata": {
  "kernelspec": {
   "display_name": "Python 3",
   "language": "python",
   "name": "python3"
  },
  "language_info": {
   "codemirror_mode": {
    "name": "ipython",
    "version": 3
   },
   "file_extension": ".py",
   "mimetype": "text/x-python",
   "name": "python",
   "nbconvert_exporter": "python",
   "pygments_lexer": "ipython3",
   "version": "3.7.6"
  }
 },
 "nbformat": 4,
 "nbformat_minor": 4
}
