{
 "cells": [
  {
   "cell_type": "markdown",
   "metadata": {},
   "source": [
    "# Palindrome - live code\n",
    "\n",
    "\n",
    "## What is a palindrome?\n",
    "A palindrome is a word or phrase that is spelled the same forwards as backwards, like:\n",
    "\n",
    "```\n",
    "wow\n",
    "Anna\n",
    "race car\n",
    "Was it a cat I saw?\n",
    "```\n",
    "\n",
    "## What will we make?\n",
    "We are going to create a function that checks whether or not a given phrase is a palindrome. Here's the plan:\n",
    "* Our function will be called `isPalindrome()`.\n",
    "* It will accept one **argument** called `txt`, which is a string.\n",
    "* It will print True if `txt` is a palindrome or `False` if `txt`\n",
    "  is not a palindrome.\n",
    "\n",
    "## How will we test our function along the way?\n",
    "We will use the following test cases to guide us:\n",
    "\n",
    "The following should all return `True`:\n",
    "```\n",
    "isPalindrome('wow')\n",
    "isPalindrome('12a3a21')\n",
    "isPalindrome('Anna')\n",
    "isPalindrome('race car')\n",
    "isPalindrome('Was it a cat I saw?')\n",
    "```\n",
    "\n",
    "The following should all return `False`:\n",
    "```\n",
    "isPalindrome('wowza')\n",
    "isPalindrome('123a21')\n",
    "isPalindrome('<3 mom <3')\n",
    "```"
   ]
  },
  {
   "cell_type": "code",
   "execution_count": null,
   "metadata": {},
   "outputs": [],
   "source": [
    "# wow --> wow\n",
    "# Anna --> \n",
    "# race car -->  "
   ]
  },
  {
   "cell_type": "code",
   "execution_count": 23,
   "metadata": {},
   "outputs": [],
   "source": [
    "def isPalindrome(txt):\n",
    "    \"\"\"Checks whether an input string is a palindrome.\n",
    "    \n",
    "    Arguments:\n",
    "        txt (string): the phrase we want to test\n",
    "    \"\"\"\n",
    "    \n",
    "    #takes text and makes it lowercase\n",
    "    txt = txt.lower()\n",
    "#     print('Lowercase: ' + txt)\n",
    "    \n",
    "    #strip out spaces\n",
    "    txt = txt.replace(\" \", \"\")\n",
    "#     print('No spaces: ' + txt)\n",
    "    \n",
    "    #strip out punctuation\n",
    "    punctuations = '?!'\n",
    "    punct_removed = \"\"\n",
    "    for char in txt:\n",
    "        if char not in punctuations:\n",
    "            punct_removed = punct_removed + char\n",
    "    txt = punct_removed\n",
    "#     print('No punctation: ' + txt)\n",
    "    \n",
    "    forwards = txt\n",
    "# #     print('Forwards: ' + forwards)\n",
    "    backwards = txt[::-1]\n",
    "#     print('Backwards: ' + backwards)\n",
    "    \n",
    "    #if text is a palindrome, print(true)\n",
    "    #if text is not a palindrome, print(false)\n",
    "    \n",
    "    if forwards == backwards:\n",
    "        print('true')\n",
    "    else:\n",
    "        print('false')"
   ]
  },
  {
   "cell_type": "code",
   "execution_count": 24,
   "metadata": {},
   "outputs": [
    {
     "name": "stdout",
     "output_type": "stream",
     "text": [
      "---These should be true---\n",
      "true\n",
      "true\n",
      "true\n",
      "true\n",
      "true\n"
     ]
    }
   ],
   "source": [
    "# Test cases that should return \"True\"\n",
    "print(\"---These should be true---\")\n",
    "isPalindrome('wow')\n",
    "isPalindrome('12a3a21')\n",
    "isPalindrome('Anna')\n",
    "isPalindrome('race car')\n",
    "isPalindrome('Was it a cat I saw?')"
   ]
  },
  {
   "cell_type": "code",
   "execution_count": 25,
   "metadata": {},
   "outputs": [
    {
     "name": "stdout",
     "output_type": "stream",
     "text": [
      "---These should be false---\n",
      "false\n",
      "false\n",
      "false\n"
     ]
    }
   ],
   "source": [
    "# Test cases that should return \"False\"\n",
    "print(\"---These should be false---\")\n",
    "isPalindrome('wowza!')\n",
    "isPalindrome('123a21')\n",
    "isPalindrome('<3 mom <3')"
   ]
  },
  {
   "cell_type": "code",
   "execution_count": null,
   "metadata": {},
   "outputs": [],
   "source": []
  }
 ],
 "metadata": {
  "kernelspec": {
   "display_name": "Python 3",
   "language": "python",
   "name": "python3"
  },
  "language_info": {
   "codemirror_mode": {
    "name": "ipython",
    "version": 3
   },
   "file_extension": ".py",
   "mimetype": "text/x-python",
   "name": "python",
   "nbconvert_exporter": "python",
   "pygments_lexer": "ipython3",
   "version": "3.7.6"
  }
 },
 "nbformat": 4,
 "nbformat_minor": 2
}
